{
 "cells": [
  {
   "cell_type": "code",
   "execution_count": 26,
   "metadata": {
    "collapsed": false
   },
   "outputs": [],
   "source": [
    "import numpy as np\n",
    "import matplotlib\n",
    "import matplotlib.pyplot as plt\n",
    "from matplotlib.ticker import MultipleLocator\n",
    "from sklearn.pipeline import Pipeline\n",
    "from sklearn.datasets import fetch_mldata\n",
    "from sklearn.neighbors import KNeighborsClassifier\n",
    "from sklearn.metrics import confusion_matrix\n",
    "from sklearn.linear_model import LinearRegression\n",
    "from sklearn.naive_bayes import BernoulliNB\n",
    "from sklearn.naive_bayes import MultinomialNB\n",
    "from sklearn.naive_bayes import GaussianNB\n",
    "from sklearn.grid_search import GridSearchCV\n",
    "from sklearn.metrics import classification_report\n",
    "from sklearn.metrics import accuracy_score\n",
    "from sklearn import preprocessing\n",
    "\n",
    "from sklearn import metrics\n",
    "from sklearn.metrics import classification_report\n"
   ]
  },
  {
   "cell_type": "code",
   "execution_count": 62,
   "metadata": {
    "collapsed": false
   },
   "outputs": [
    {
     "name": "stdout",
     "output_type": "stream",
     "text": [
      "Training data shape:  (100000L, 4L)\n",
      "Training labels shape:  (100000L,)\n",
      "\n",
      "Training Data:  [[  7.94100000e-01   9.08090000e+00   5.40000000e+01   4.70702000e+05]\n",
      " [  5.95670000e+00   4.79680000e+00   1.30000000e+01   1.86555000e+05]\n",
      " [  8.30780000e+00   7.04070000e+00   7.40000000e+01   3.22648000e+05]\n",
      " [  7.36650000e+00   2.51650000e+00   6.50000000e+01   7.04587000e+05]\n",
      " [  4.09610000e+00   1.13070000e+00   3.10000000e+01   4.72130000e+05]]\n",
      "Training Labels:  [8523065625 1757726713 1137537235 6567393236 7440663949]\n",
      "\n",
      "Test Data:  [[  1.67500000e-01   1.36080000e+00   1.07000000e+02   9.30883000e+05]\n",
      " [  7.39090000e+00   2.53010000e+00   3.50000000e+01   8.93017000e+05]\n",
      " [  8.09780000e+00   2.34730000e+00   6.20000000e+01   9.76933000e+05]\n",
      " [  9.99000000e-01   1.05910000e+00   6.20000000e+01   9.07285000e+05]\n",
      " [  6.67000000e-01   9.72540000e+00   4.00000000e+01   9.14399000e+05]]\n",
      "Test Labels:  [3073560757 1652178628 4894407065 7272466660 4720452725]\n"
     ]
    }
   ],
   "source": [
    "#row count for processing\n",
    "row_count = 100000\n",
    "train_data = np.genfromtxt ('train.csv', delimiter=\",\", max_rows=row_count, skip_header=True)\n",
    "\n",
    "#split training label\n",
    "train_labels = np.asarray([int(numeric_string) for numeric_string in train_data[:,5]])\n",
    "\n",
    "#split training data\n",
    "train_data = train_data[:,1:5]\n",
    "\n",
    "raw_test_labels = np.genfromtxt ('sample_submission.csv', delimiter=\",\", max_rows=row_count, skip_header=True, dtype=np.character)\n",
    "test_data = np.genfromtxt ('test.csv', delimiter=\",\", max_rows=row_count, skip_header=True)\n",
    "test_data = test_data[:,1:5]\n",
    "print \"Training data shape: \",train_data.shape\n",
    "print \"Training labels shape: \", train_labels.shape\n",
    "print\n",
    "print \"Training Data: \",train_data[:5,]\n",
    "print \"Training Labels: \",train_labels[:5,]\n",
    "print\n",
    "\n",
    "print \"Test Data: \",test_data[:5,]\n",
    "\n",
    "#Format test labels\n",
    "test_labels = np.zeros((len(raw_test_labels), 4))\n",
    "for ii in range(len(raw_test_labels)):\n",
    "    split = str(raw_test_labels[ii,1]).split()\n",
    "    test_labels[ii,0] = int(raw_test_labels[ii,0])\n",
    "    test_labels[ii,1] = int(split[0])\n",
    "    test_labels[ii,2] = int(split[1])\n",
    "    test_labels[ii,3] = int(split[2])\n",
    "test_label_1 = np.asarray([int(numeric_string) for numeric_string in test_labels[:,1]])\n",
    "test_label_2 = np.asarray([int(numeric_string) for numeric_string in test_labels[:,2]])\n",
    "test_label_3 = np.asarray([int(numeric_string) for numeric_string in test_labels[:,3]])\n",
    "print \"Test Labels: \",test_label_1[:5,]"
   ]
  },
  {
   "cell_type": "code",
   "execution_count": 63,
   "metadata": {
    "collapsed": false
   },
   "outputs": [
    {
     "name": "stdout",
     "output_type": "stream",
     "text": [
      "Accuracy for 1st choice 7.2020886057e-09\n",
      "Accuracy for 2nd choice"
     ]
    },
    {
     "name": "stderr",
     "output_type": "stream",
     "text": [
      "C:\\Company\\Software\\anaconda\\lib\\site-packages\\sklearn\\metrics\\classification.py:756: DeprecationWarning: The default `weighted` averaging is deprecated, and from version 0.18, use of precision, recall or F-score with multiclass or multilabel data or pos_label=None will result in an exception. Please set an explicit value for `average`, one of (None, 'micro', 'macro', 'weighted', 'samples'). In cross validation use, for instance, scoring=\"f1_weighted\" instead of scoring=\"f1\".\n",
      "  sample_weight=sample_weight)\n",
      "C:\\Company\\Software\\anaconda\\lib\\site-packages\\sklearn\\metrics\\classification.py:756: DeprecationWarning: The default `weighted` averaging is deprecated, and from version 0.18, use of precision, recall or F-score with multiclass or multilabel data or pos_label=None will result in an exception. Please set an explicit value for `average`, one of (None, 'micro', 'macro', 'weighted', 'samples'). In cross validation use, for instance, scoring=\"f1_weighted\" instead of scoring=\"f1\".\n",
      "  sample_weight=sample_weight)\n"
     ]
    },
    {
     "name": "stdout",
     "output_type": "stream",
     "text": [
      " 1.80057618438e-09\n",
      "Accuracy for 3rd choice 3.20099230762e-09\n"
     ]
    },
    {
     "name": "stderr",
     "output_type": "stream",
     "text": [
      "C:\\Company\\Software\\anaconda\\lib\\site-packages\\sklearn\\metrics\\classification.py:756: DeprecationWarning: The default `weighted` averaging is deprecated, and from version 0.18, use of precision, recall or F-score with multiclass or multilabel data or pos_label=None will result in an exception. Please set an explicit value for `average`, one of (None, 'micro', 'macro', 'weighted', 'samples'). In cross validation use, for instance, scoring=\"f1_weighted\" instead of scoring=\"f1\".\n",
      "  sample_weight=sample_weight)\n"
     ]
    }
   ],
   "source": [
    "knn = KNeighborsClassifier(n_neighbors=1)\n",
    "knn.fit(train_data, train_labels)\n",
    "y_pred = knn.predict(test_data)\n",
    "print \"Accuracy for 1st choice\", metrics.f1_score(test_label_1, y_pred)\n",
    "print \"Accuracy for 2nd choice\", metrics.f1_score(test_label_2, y_pred)\n",
    "print \"Accuracy for 3rd choice\", metrics.f1_score(test_label_3, y_pred)\n",
    "for ii in range(len(y_pred)):\n",
    "    if y_pred[ii] != test_labels_1[ii]:\n",
    "        print \"Text: %s, actual: %s, predicted %s\"%(test_data[ii], test_labels_1[ii]), y_pred[ii])\n",
    "\n",
    "\n",
    "\n"
   ]
  }
 ],
 "metadata": {
  "kernelspec": {
   "display_name": "Python 2",
   "language": "python",
   "name": "python2"
  },
  "language_info": {
   "codemirror_mode": {
    "name": "ipython",
    "version": 2
   },
   "file_extension": ".py",
   "mimetype": "text/x-python",
   "name": "python",
   "nbconvert_exporter": "python",
   "pygments_lexer": "ipython2",
   "version": "2.7.11"
  }
 },
 "nbformat": 4,
 "nbformat_minor": 0
}
