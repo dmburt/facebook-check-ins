{
 "cells": [
  {
   "cell_type": "code",
   "execution_count": 1,
   "metadata": {
    "collapsed": true
   },
   "outputs": [],
   "source": [
    "# This tells matplotlib not to try opening a new window for each plot.\n",
    "%matplotlib inline\n",
    "\n",
    "# General libraries.\n",
    "import re\n",
    "import numpy as np\n",
    "import matplotlib.pyplot as plt\n",
    "import pandas as pd\n",
    "\n",
    "# SK-learn libraries for learning.\n",
    "from sklearn.pipeline import Pipeline\n",
    "from sklearn.neighbors import KNeighborsClassifier\n",
    "from sklearn.linear_model import LogisticRegression\n",
    "from sklearn.naive_bayes import BernoulliNB\n",
    "from sklearn.naive_bayes import MultinomialNB\n",
    "from sklearn.grid_search import GridSearchCV\n",
    "\n",
    "# SK-learn libraries for evaluation.\n",
    "from sklearn.metrics import confusion_matrix\n",
    "from sklearn import metrics\n",
    "from sklearn.metrics import classification_report"
   ]
  },
  {
   "cell_type": "code",
   "execution_count": 2,
   "metadata": {
    "collapsed": false
   },
   "outputs": [],
   "source": [
    "#Read in data \n",
    "devRowNumber = 10000\n",
    "#train = np.genfromtxt('fb_kaggle_train.csv', delimiter=',', names=True, skip_footer=29118022-devRowNumber)\n",
    "#test = np.genfromtxt('fb_kaggle_test.csv', delimiter=',', names=True)\n",
    "train = pd.read_csv('fb_kaggle_train.csv', delimiter=\",\", usecols=[1,2,3,4,5]).values\n",
    "test = pd.read_csv('fb_kaggle_test.csv', delimiter=\",\", usecols=[1,2,3,4]).values\n",
    "\n",
    "traindf = pd.read_csv('fb_kaggle_train.csv', delimiter=\",\", usecols=[1,2,3,4,5])\n",
    "testdf = pd.read_csv('fb_kaggle_test.csv', delimiter=\",\", usecols=[1,2,3,4])\n",
    "\n",
    "#Separate features from labels \n",
    "train_labels = train[:,4]\n",
    "train_feat = train[:,0:4]"
   ]
  },
  {
   "cell_type": "code",
   "execution_count": 3,
   "metadata": {
    "collapsed": false
   },
   "outputs": [
    {
     "name": "stdout",
     "output_type": "stream",
     "text": [
      "8607230\n"
     ]
    }
   ],
   "source": [
    "#Create knn classifier \n",
    "knn = KNeighborsClassifier(n_neighbors=1)\n",
    "#print(traindf.iloc[0:1000,4:].values)\n",
    "knn.fit(traindf.iloc[0:10000,0:4].values,np.ravel(traindf.iloc[0:10000,4:].values))\n",
    "#knn.fit(train_feat[:10000],train_labels[:10000])\n",
    "print(len(test))\n",
    "\n",
    "#print(test[0])\n",
    "#print(pred[0])\n",
    "#print(probs[0])\n",
    "#train classifier\n",
    "#print(traindf)\n",
    "#print(train_labels.shape)\n",
    "#print(train.shape)\n",
    "#print(test.shape)"
   ]
  },
  {
   "cell_type": "code",
   "execution_count": 4,
   "metadata": {
    "collapsed": false
   },
   "outputs": [
    {
     "name": "stdout",
     "output_type": "stream",
     "text": [
      "(8607230,)\n"
     ]
    }
   ],
   "source": [
    "end = int(1+len(test)/100000)\n",
    "pred = knn.predict(test[:100000])\n",
    "#prob = knn.predict_proba(test[:1000])\n",
    "for i in range(1,end):\n",
    "    pred = np.concatenate((pred,knn.predict(test[i*100000:(i+1)*100000])))\n",
    "#    prob = np.concatenate((prob,knn.predict_proba(test[i*100000:(i+1)*100000])))\n",
    "print(pred.shape)"
   ]
  },
  {
   "cell_type": "code",
   "execution_count": 5,
   "metadata": {
    "collapsed": false
   },
   "outputs": [
    {
     "name": "stdout",
     "output_type": "stream",
     "text": [
      "(3, 8607230)\n",
      "(8607230,)\n",
      "(4, 8607230)\n",
      "               pred\n",
      "0        1931796515\n",
      "1        1931796515\n",
      "2        1931796515\n",
      "3        1931796515\n",
      "4        1931796515\n",
      "5        1931796515\n",
      "6        1931796515\n",
      "7        1931796515\n",
      "8        1931796515\n",
      "9        1931796515\n",
      "10       1931796515\n",
      "11       1931796515\n",
      "12       1931796515\n",
      "13       1931796515\n",
      "14       1931796515\n",
      "15       1931796515\n",
      "16       1931796515\n",
      "17       1931796515\n",
      "18       1931796515\n",
      "19       1931796515\n",
      "20       1931796515\n",
      "21       1931796515\n",
      "22       1931796515\n",
      "23       1931796515\n",
      "24       1931796515\n",
      "25       1931796515\n",
      "26       1931796515\n",
      "27       1931796515\n",
      "28       1931796515\n",
      "29       1931796515\n",
      "...             ...\n",
      "8607200  1931796515\n",
      "8607201  1931796515\n",
      "8607202  1931796515\n",
      "8607203  1931796515\n",
      "8607204  1931796515\n",
      "8607205  1931796515\n",
      "8607206  1931796515\n",
      "8607207  1931796515\n",
      "8607208  1931796515\n",
      "8607209  1931796515\n",
      "8607210  1931796515\n",
      "8607211  1931796515\n",
      "8607212  1931796515\n",
      "8607213  1931796515\n",
      "8607214  1931796515\n",
      "8607215  1931796515\n",
      "8607216  1931796515\n",
      "8607217  1931796515\n",
      "8607218  1931796515\n",
      "8607219  1931796515\n",
      "8607220  1931796515\n",
      "8607221  1931796515\n",
      "8607222  1931796515\n",
      "8607223  1931796515\n",
      "8607224  1931796515\n",
      "8607225  1931796515\n",
      "8607226  1931796515\n",
      "8607227  1931796515\n",
      "8607228  1931796515\n",
      "8607229  1931796515\n",
      "\n",
      "[8607230 rows x 1 columns]\n"
     ]
    }
   ],
   "source": [
    "preds = np.tile(pred,(3,1))\n",
    "print(preds.shape)\n",
    "index = np.arange(len(preds[0]))\n",
    "print(index.shape)\n",
    "preds = np.vstack((index,preds))\n",
    "print(preds.shape)\n",
    "#print(preds)\n",
    "df = pd.DataFrame({\"pred\":preds[1]})\n",
    "\n",
    "#print(dog)\n",
    "\n",
    "df[\"pred\"] = df.pred.map(str)\n"
   ]
  },
  {
   "cell_type": "code",
   "execution_count": 8,
   "metadata": {
    "collapsed": false
   },
   "outputs": [
    {
     "name": "stdout",
     "output_type": "stream",
     "text": [
      "                                 place_id\n",
      "row_id                                   \n",
      "0        1931796515 1931796515 1931796515\n",
      "1        1931796515 1931796515 1931796515\n",
      "2        1931796515 1931796515 1931796515\n",
      "3        1931796515 1931796515 1931796515\n",
      "4        1931796515 1931796515 1931796515\n",
      "5        1931796515 1931796515 1931796515\n",
      "6        1931796515 1931796515 1931796515\n",
      "7        1931796515 1931796515 1931796515\n",
      "8        1931796515 1931796515 1931796515\n",
      "9        1931796515 1931796515 1931796515\n",
      "10       1931796515 1931796515 1931796515\n",
      "11       1931796515 1931796515 1931796515\n",
      "12       1931796515 1931796515 1931796515\n",
      "13       1931796515 1931796515 1931796515\n",
      "14       1931796515 1931796515 1931796515\n",
      "15       1931796515 1931796515 1931796515\n",
      "16       1931796515 1931796515 1931796515\n",
      "17       1931796515 1931796515 1931796515\n",
      "18       1931796515 1931796515 1931796515\n",
      "19       1931796515 1931796515 1931796515\n",
      "20       1931796515 1931796515 1931796515\n",
      "21       1931796515 1931796515 1931796515\n",
      "22       1931796515 1931796515 1931796515\n",
      "23       1931796515 1931796515 1931796515\n",
      "24       1931796515 1931796515 1931796515\n",
      "25       1931796515 1931796515 1931796515\n",
      "26       1931796515 1931796515 1931796515\n",
      "27       1931796515 1931796515 1931796515\n",
      "28       1931796515 1931796515 1931796515\n",
      "29       1931796515 1931796515 1931796515\n",
      "...                                   ...\n",
      "8607200  1931796515 1931796515 1931796515\n",
      "8607201  1931796515 1931796515 1931796515\n",
      "8607202  1931796515 1931796515 1931796515\n",
      "8607203  1931796515 1931796515 1931796515\n",
      "8607204  1931796515 1931796515 1931796515\n",
      "8607205  1931796515 1931796515 1931796515\n",
      "8607206  1931796515 1931796515 1931796515\n",
      "8607207  1931796515 1931796515 1931796515\n",
      "8607208  1931796515 1931796515 1931796515\n",
      "8607209  1931796515 1931796515 1931796515\n",
      "8607210  1931796515 1931796515 1931796515\n",
      "8607211  1931796515 1931796515 1931796515\n",
      "8607212  1931796515 1931796515 1931796515\n",
      "8607213  1931796515 1931796515 1931796515\n",
      "8607214  1931796515 1931796515 1931796515\n",
      "8607215  1931796515 1931796515 1931796515\n",
      "8607216  1931796515 1931796515 1931796515\n",
      "8607217  1931796515 1931796515 1931796515\n",
      "8607218  1931796515 1931796515 1931796515\n",
      "8607219  1931796515 1931796515 1931796515\n",
      "8607220  1931796515 1931796515 1931796515\n",
      "8607221  1931796515 1931796515 1931796515\n",
      "8607222  1931796515 1931796515 1931796515\n",
      "8607223  1931796515 1931796515 1931796515\n",
      "8607224  1931796515 1931796515 1931796515\n",
      "8607225  1931796515 1931796515 1931796515\n",
      "8607226  1931796515 1931796515 1931796515\n",
      "8607227  1931796515 1931796515 1931796515\n",
      "8607228  1931796515 1931796515 1931796515\n",
      "8607229  1931796515 1931796515 1931796515\n",
      "\n",
      "[8607230 rows x 1 columns]\n"
     ]
    }
   ],
   "source": [
    "#df[\"pred\"] = df.pred + \" \" + df.pred + \" \" + df.pred\n",
    "df.index.name = 'row_id'\n",
    "df.columns = ['place_id']\n",
    "print(df)\n",
    "df.to_csv(\"fb_sample_submission.csv\")\n"
   ]
  }
 ],
 "metadata": {
  "kernelspec": {
   "display_name": "Python 2",
   "language": "python",
   "name": "python2"
  },
  "language_info": {
   "codemirror_mode": {
    "name": "ipython",
    "version": 2
   },
   "file_extension": ".py",
   "mimetype": "text/x-python",
   "name": "python",
   "nbconvert_exporter": "python",
   "pygments_lexer": "ipython2",
   "version": "2.7.11"
  }
 },
 "nbformat": 4,
 "nbformat_minor": 0
}
